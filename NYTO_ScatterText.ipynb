{
 "cells": [
  {
   "cell_type": "code",
   "execution_count": 11,
   "id": "356b95c3",
   "metadata": {},
   "outputs": [
    {
     "name": "stderr",
     "output_type": "stream",
     "text": [
      "[nltk_data] Downloading package punkt to\n",
      "[nltk_data]     /Users/matthew.redmond@usfoods.com/nltk_data...\n",
      "[nltk_data]   Package punkt is already up-to-date!\n"
     ]
    }
   ],
   "source": [
    "import pandas as pd\n",
    "from sklearn.model_selection import train_test_split\n",
    "import collections\n",
    "import numpy as np\n",
    "from nltk.tokenize import word_tokenize\n",
    "import nltk\n",
    "nltk.download('punkt')\n",
    "import pandas as pd\n",
    "from sklearn.feature_extraction.text import CountVectorizer\n",
    "from sklearn.decomposition import NMF\n",
    "from nltk.stem.lancaster import LancasterStemmer\n",
    "from nltk.stem.porter import PorterStemmer\n",
    "from sklearn.decomposition import PCA\n",
    "import spacy\n",
    "nlp = spacy.load('en_core_web_sm')\n",
    "from sklearn.decomposition import TruncatedSVD\n",
    "from sklearn.decomposition import NMF\n",
    "from gensim import corpora, models, matutils\n",
    "from sklearn.model_selection import train_test_split\n",
    "from sklearn.linear_model import LogisticRegression\n",
    "from sklearn.metrics import log_loss\n",
    "from sklearn.neighbors import KNeighborsClassifier\n",
    "from sklearn.metrics import accuracy_score\n",
    "import matplotlib.pyplot as plt\n",
    "import seaborn as sns\n",
    "from sklearn.metrics import confusion_matrix, precision_score, recall_score, f1_score\n",
    "from sklearn.metrics import precision_recall_fscore_support\n",
    "from sklearn import tree\n",
    "from sklearn.ensemble import BaggingClassifier\n",
    "from sklearn.ensemble import RandomForestClassifier\n",
    "from sklearn.ensemble import ExtraTreesClassifier\n",
    "import xgboost as xgb\n",
    "from sklearn.cluster import KMeans\n",
    "import scattertext as st"
   ]
  },
  {
   "cell_type": "code",
   "execution_count": 12,
   "id": "5044a465",
   "metadata": {},
   "outputs": [],
   "source": [
    "df = pd.read_csv(\"Onion_NYT.csv\")\n",
    "df['Title'] = df['Title'].astype(str)\n",
    "df['Content'] = df['Content'].astype(str)\n",
    "df['spacy_Title'] = list(nlp.pipe(df['Title']))\n",
    "df['spacy_Content'] = list(nlp.pipe(df['Content']))\n",
    "spstopwords = nlp.Defaults.stop_words\n",
    "#https://stackoverflow.com/questions/55817040/removing-stop-words-using-spacy\n",
    "df['Spacy_Title2'] = df.Title.apply(lambda text: \n",
    "                                          \" \".join(token.lemma_ for token in nlp(text) \n",
    "                                                   if not token.is_stop))\n",
    "df['Spacy_Content2'] = df.Content.apply(lambda text: \n",
    "                                          \" \".join(token.lemma_ for token in nlp(text) \n",
    "                                                   if not token.is_stop))\n",
    "titlelistforcv = []\n",
    "for doc in df.Spacy_Title2:\n",
    "    titlelistforcv.append(doc)\n",
    "contentlistforcv = []\n",
    "for doc in df.Spacy_Content2:\n",
    "    contentlistforcv.append(doc)"
   ]
  },
  {
   "cell_type": "code",
   "execution_count": 13,
   "id": "0fcb97f3",
   "metadata": {},
   "outputs": [
    {
     "data": {
      "text/html": [
       "<div>\n",
       "<style scoped>\n",
       "    .dataframe tbody tr th:only-of-type {\n",
       "        vertical-align: middle;\n",
       "    }\n",
       "\n",
       "    .dataframe tbody tr th {\n",
       "        vertical-align: top;\n",
       "    }\n",
       "\n",
       "    .dataframe thead th {\n",
       "        text-align: right;\n",
       "    }\n",
       "</style>\n",
       "<table border=\"1\" class=\"dataframe\">\n",
       "  <thead>\n",
       "    <tr style=\"text-align: right;\">\n",
       "      <th></th>\n",
       "      <th>Onion</th>\n",
       "      <th>Title</th>\n",
       "      <th>Published Time</th>\n",
       "      <th>Content</th>\n",
       "      <th>spacy_Title</th>\n",
       "      <th>spacy_Content</th>\n",
       "      <th>Spacy_Title2</th>\n",
       "      <th>Spacy_Content2</th>\n",
       "    </tr>\n",
       "  </thead>\n",
       "  <tbody>\n",
       "    <tr>\n",
       "      <th>0</th>\n",
       "      <td>0</td>\n",
       "      <td>Misogyny Fuels Violence Against Women. Should ...</td>\n",
       "      <td>2021-03-26 00:31:15+00:00</td>\n",
       "      <td>Caroline Criado Perez, author of “Invisible...</td>\n",
       "      <td>(Misogyny, Fuels, Violence, Against, Women, .,...</td>\n",
       "      <td>(   , Caroline, Criado, Perez, ,, author, of, ...</td>\n",
       "      <td>Misogyny Fuels Violence Women . Hate Crime ?</td>\n",
       "      <td>Caroline Criado Perez , author \" invisible...</td>\n",
       "    </tr>\n",
       "    <tr>\n",
       "      <th>1</th>\n",
       "      <td>0</td>\n",
       "      <td>‘No Time to Be a Child’</td>\n",
       "      <td>2021-09-25 18:58:22+00:00</td>\n",
       "      <td>A poem by Azariah Baker, a high school stude...</td>\n",
       "      <td>(‘, No, Time, to, Be, a, Child, ’)</td>\n",
       "      <td>(  , A, poem, by, Azariah, Baker, ,, a, high, ...</td>\n",
       "      <td>' time child '</td>\n",
       "      <td>poem Azariah Baker , high school student Ch...</td>\n",
       "    </tr>\n",
       "    <tr>\n",
       "      <th>2</th>\n",
       "      <td>0</td>\n",
       "      <td>His, Hers, Everyone’s: Gender-Equal Underwear ...</td>\n",
       "      <td>2021-06-25 21:18:24+00:00</td>\n",
       "      <td>Abby Sugar, co-founder and chief executive o...</td>\n",
       "      <td>(His, ,, Hers, ,, Everyone, ’s, :, Gender, -, ...</td>\n",
       "      <td>(  , Abby, Sugar, ,, co, -, founder, and, chie...</td>\n",
       "      <td>, , : Gender - Equal Underwear go ( slightly )...</td>\n",
       "      <td>Abby Sugar , co - founder chief executive P...</td>\n",
       "    </tr>\n",
       "    <tr>\n",
       "      <th>3</th>\n",
       "      <td>0</td>\n",
       "      <td>A Fashion Show With an Unexpected Focus: Sexua...</td>\n",
       "      <td>2021-09-12 19:01:31+00:00</td>\n",
       "      <td>Amanda Nguyen, founder of the civil rights o...</td>\n",
       "      <td>(A, Fashion, Show, With, an, Unexpected, Focus...</td>\n",
       "      <td>(  , Amanda, Nguyen, ,, founder, of, the, civi...</td>\n",
       "      <td>Fashion Unexpected Focus : Sexual Assault surv...</td>\n",
       "      <td>Amanda Nguyen , founder civil right organiz...</td>\n",
       "    </tr>\n",
       "    <tr>\n",
       "      <th>4</th>\n",
       "      <td>0</td>\n",
       "      <td>Hey, Alexa, Are You Sexist?</td>\n",
       "      <td>2021-02-12 21:20:20+00:00</td>\n",
       "      <td>Amazon’s Alexa</td>\n",
       "      <td>(Hey, ,, Alexa, ,, Are, You, Sexist, ?)</td>\n",
       "      <td>(  , Amazon, ’s, Alexa)</td>\n",
       "      <td>hey , Alexa , sexist ?</td>\n",
       "      <td>Amazon Alexa</td>\n",
       "    </tr>\n",
       "    <tr>\n",
       "      <th>...</th>\n",
       "      <td>...</td>\n",
       "      <td>...</td>\n",
       "      <td>...</td>\n",
       "      <td>...</td>\n",
       "      <td>...</td>\n",
       "      <td>...</td>\n",
       "      <td>...</td>\n",
       "      <td>...</td>\n",
       "    </tr>\n",
       "    <tr>\n",
       "      <th>43456</th>\n",
       "      <td>0</td>\n",
       "      <td>Swiss Voters Reject Proposal to Ban Synthetic ...</td>\n",
       "      <td>2021-06-13 14:19:25+00:00</td>\n",
       "      <td>ZURICH   Voters in Switzerland on Sunday overw...</td>\n",
       "      <td>(Swiss, Voters, Reject, Proposal, to, Ban, Syn...</td>\n",
       "      <td>(ZURICH,   , Voters, in, Switzerland, on, Sund...</td>\n",
       "      <td>Swiss Voters Reject Proposal Ban Synthetic Pes...</td>\n",
       "      <td>ZURICH    Voters Switzerland Sunday overwhelmi...</td>\n",
       "    </tr>\n",
       "    <tr>\n",
       "      <th>43457</th>\n",
       "      <td>0</td>\n",
       "      <td>Swiss Voters Approve Law Allowing Same-Sex Mar...</td>\n",
       "      <td>2021-09-26 14:54:38+00:00</td>\n",
       "      <td>ZURICH   Voters in Switzerland overwhelmingly ...</td>\n",
       "      <td>(Swiss, Voters, Approve, Law, Allowing, Same, ...</td>\n",
       "      <td>(ZURICH,   , Voters, in, Switzerland, overwhel...</td>\n",
       "      <td>Swiss Voters Approve Law allow - sex marriage</td>\n",
       "      <td>ZURICH    Voters Switzerland overwhelmingly de...</td>\n",
       "    </tr>\n",
       "    <tr>\n",
       "      <th>43458</th>\n",
       "      <td>0</td>\n",
       "      <td>A Nazi Legacy Haunts a Museum’s New Galleries</td>\n",
       "      <td>2021-10-11 18:19:53+00:00</td>\n",
       "      <td>ZURICH   With the opening of an imposing exten...</td>\n",
       "      <td>(A, Nazi, Legacy, Haunts, a, Museum, ’s, New, ...</td>\n",
       "      <td>(ZURICH,   , With, the, opening, of, an, impos...</td>\n",
       "      <td>Nazi Legacy Haunts Museum New Galleries</td>\n",
       "      <td>ZURICH    opening imposing extension Saturday ...</td>\n",
       "    </tr>\n",
       "    <tr>\n",
       "      <th>43459</th>\n",
       "      <td>1</td>\n",
       "      <td>Chemists Announce Upgraded Periodic Table With...</td>\n",
       "      <td>2019-10-23T08:00:00-05:00</td>\n",
       "      <td>ZURICH Offering fans a sneak peak of the servi...</td>\n",
       "      <td>(Chemists, Announce, Upgraded, Periodic, Table...</td>\n",
       "      <td>(ZURICH, Offering, fans, a, sneak, peak, of, t...</td>\n",
       "      <td>chemist announce upgrade periodic table dozen ...</td>\n",
       "      <td>ZURICH Offering fan sneak peak service STEM co...</td>\n",
       "    </tr>\n",
       "    <tr>\n",
       "      <th>43460</th>\n",
       "      <td>1</td>\n",
       "      <td>Hard To Tell If Wikipedia Entry On Dada Has Be...</td>\n",
       "      <td>2007-08-20T01:03:00-05:00</td>\n",
       "      <td>ZURICH, SWITZERLAND The Wikipedia entry on Dad...</td>\n",
       "      <td>(Hard, To, Tell, If, Wikipedia, Entry, On, Dad...</td>\n",
       "      <td>(ZURICH, ,, SWITZERLAND, The, Wikipedia, entry...</td>\n",
       "      <td>hard tell Wikipedia Entry Dada vandalize</td>\n",
       "      <td>ZURICH , SWITZERLAND Wikipedia entry Dada Worl...</td>\n",
       "    </tr>\n",
       "  </tbody>\n",
       "</table>\n",
       "<p>43461 rows × 8 columns</p>\n",
       "</div>"
      ],
      "text/plain": [
       "       Onion                                              Title  \\\n",
       "0          0  Misogyny Fuels Violence Against Women. Should ...   \n",
       "1          0                            ‘No Time to Be a Child’   \n",
       "2          0  His, Hers, Everyone’s: Gender-Equal Underwear ...   \n",
       "3          0  A Fashion Show With an Unexpected Focus: Sexua...   \n",
       "4          0                        Hey, Alexa, Are You Sexist?   \n",
       "...      ...                                                ...   \n",
       "43456      0  Swiss Voters Reject Proposal to Ban Synthetic ...   \n",
       "43457      0  Swiss Voters Approve Law Allowing Same-Sex Mar...   \n",
       "43458      0      A Nazi Legacy Haunts a Museum’s New Galleries   \n",
       "43459      1  Chemists Announce Upgraded Periodic Table With...   \n",
       "43460      1  Hard To Tell If Wikipedia Entry On Dada Has Be...   \n",
       "\n",
       "                  Published Time  \\\n",
       "0      2021-03-26 00:31:15+00:00   \n",
       "1      2021-09-25 18:58:22+00:00   \n",
       "2      2021-06-25 21:18:24+00:00   \n",
       "3      2021-09-12 19:01:31+00:00   \n",
       "4      2021-02-12 21:20:20+00:00   \n",
       "...                          ...   \n",
       "43456  2021-06-13 14:19:25+00:00   \n",
       "43457  2021-09-26 14:54:38+00:00   \n",
       "43458  2021-10-11 18:19:53+00:00   \n",
       "43459  2019-10-23T08:00:00-05:00   \n",
       "43460  2007-08-20T01:03:00-05:00   \n",
       "\n",
       "                                                 Content  \\\n",
       "0         Caroline Criado Perez, author of “Invisible...   \n",
       "1        A poem by Azariah Baker, a high school stude...   \n",
       "2        Abby Sugar, co-founder and chief executive o...   \n",
       "3        Amanda Nguyen, founder of the civil rights o...   \n",
       "4                                         Amazon’s Alexa   \n",
       "...                                                  ...   \n",
       "43456  ZURICH   Voters in Switzerland on Sunday overw...   \n",
       "43457  ZURICH   Voters in Switzerland overwhelmingly ...   \n",
       "43458  ZURICH   With the opening of an imposing exten...   \n",
       "43459  ZURICH Offering fans a sneak peak of the servi...   \n",
       "43460  ZURICH, SWITZERLAND The Wikipedia entry on Dad...   \n",
       "\n",
       "                                             spacy_Title  \\\n",
       "0      (Misogyny, Fuels, Violence, Against, Women, .,...   \n",
       "1                     (‘, No, Time, to, Be, a, Child, ’)   \n",
       "2      (His, ,, Hers, ,, Everyone, ’s, :, Gender, -, ...   \n",
       "3      (A, Fashion, Show, With, an, Unexpected, Focus...   \n",
       "4                (Hey, ,, Alexa, ,, Are, You, Sexist, ?)   \n",
       "...                                                  ...   \n",
       "43456  (Swiss, Voters, Reject, Proposal, to, Ban, Syn...   \n",
       "43457  (Swiss, Voters, Approve, Law, Allowing, Same, ...   \n",
       "43458  (A, Nazi, Legacy, Haunts, a, Museum, ’s, New, ...   \n",
       "43459  (Chemists, Announce, Upgraded, Periodic, Table...   \n",
       "43460  (Hard, To, Tell, If, Wikipedia, Entry, On, Dad...   \n",
       "\n",
       "                                           spacy_Content  \\\n",
       "0      (   , Caroline, Criado, Perez, ,, author, of, ...   \n",
       "1      (  , A, poem, by, Azariah, Baker, ,, a, high, ...   \n",
       "2      (  , Abby, Sugar, ,, co, -, founder, and, chie...   \n",
       "3      (  , Amanda, Nguyen, ,, founder, of, the, civi...   \n",
       "4                                (  , Amazon, ’s, Alexa)   \n",
       "...                                                  ...   \n",
       "43456  (ZURICH,   , Voters, in, Switzerland, on, Sund...   \n",
       "43457  (ZURICH,   , Voters, in, Switzerland, overwhel...   \n",
       "43458  (ZURICH,   , With, the, opening, of, an, impos...   \n",
       "43459  (ZURICH, Offering, fans, a, sneak, peak, of, t...   \n",
       "43460  (ZURICH, ,, SWITZERLAND, The, Wikipedia, entry...   \n",
       "\n",
       "                                            Spacy_Title2  \\\n",
       "0           Misogyny Fuels Violence Women . Hate Crime ?   \n",
       "1                                         ' time child '   \n",
       "2      , , : Gender - Equal Underwear go ( slightly )...   \n",
       "3      Fashion Unexpected Focus : Sexual Assault surv...   \n",
       "4                                 hey , Alexa , sexist ?   \n",
       "...                                                  ...   \n",
       "43456  Swiss Voters Reject Proposal Ban Synthetic Pes...   \n",
       "43457      Swiss Voters Approve Law allow - sex marriage   \n",
       "43458            Nazi Legacy Haunts Museum New Galleries   \n",
       "43459  chemist announce upgrade periodic table dozen ...   \n",
       "43460           hard tell Wikipedia Entry Dada vandalize   \n",
       "\n",
       "                                          Spacy_Content2  \n",
       "0          Caroline Criado Perez , author \" invisible...  \n",
       "1         poem Azariah Baker , high school student Ch...  \n",
       "2         Abby Sugar , co - founder chief executive P...  \n",
       "3         Amanda Nguyen , founder civil right organiz...  \n",
       "4                                           Amazon Alexa  \n",
       "...                                                  ...  \n",
       "43456  ZURICH    Voters Switzerland Sunday overwhelmi...  \n",
       "43457  ZURICH    Voters Switzerland overwhelmingly de...  \n",
       "43458  ZURICH    opening imposing extension Saturday ...  \n",
       "43459  ZURICH Offering fan sneak peak service STEM co...  \n",
       "43460  ZURICH , SWITZERLAND Wikipedia entry Dada Worl...  \n",
       "\n",
       "[43461 rows x 8 columns]"
      ]
     },
     "execution_count": 13,
     "metadata": {},
     "output_type": "execute_result"
    }
   ],
   "source": [
    "df"
   ]
  },
  {
   "cell_type": "code",
   "execution_count": 34,
   "id": "9f096c43",
   "metadata": {},
   "outputs": [],
   "source": [
    "df['Onion'] = df['Onion'].astype(str)"
   ]
  },
  {
   "cell_type": "code",
   "execution_count": 35,
   "id": "17fea7df",
   "metadata": {},
   "outputs": [],
   "source": [
    "corpus = st.CorpusFromPandas(df, category_col = 'Onion', text_col = 'Content', nlp = nlp).build()"
   ]
  },
  {
   "cell_type": "code",
   "execution_count": 33,
   "id": "e3ac8339",
   "metadata": {},
   "outputs": [
    {
     "data": {
      "text/plain": [
       "<scattertext.CorpusDF.CorpusDF at 0x7fc731216760>"
      ]
     },
     "execution_count": 33,
     "metadata": {},
     "output_type": "execute_result"
    }
   ],
   "source": [
    "corpus"
   ]
  },
  {
   "cell_type": "code",
   "execution_count": 36,
   "id": "09c62102",
   "metadata": {},
   "outputs": [],
   "source": [
    "html = st.produce_scattertext_explorer(corpus,\n",
    "                   category = '1',\n",
    "                   category_name= '1',\n",
    "                   not_category_name = '0',                    \n",
    "                   width_in_pixels=1000)\n"
   ]
  },
  {
   "cell_type": "code",
   "execution_count": 38,
   "id": "b6dee731",
   "metadata": {},
   "outputs": [
    {
     "data": {
      "text/plain": [
       "25396130"
      ]
     },
     "execution_count": 38,
     "metadata": {},
     "output_type": "execute_result"
    }
   ],
   "source": [
    "open(\"NTYO.html\",\"wb\").write(html.encode(\"utf-8\"))\n",
    "\n",
    "#open(\"StockMarketSentiment.html\", \"wb\").write(html.encode(\"utf-8\"))"
   ]
  },
  {
   "cell_type": "code",
   "execution_count": 3,
   "id": "b12e9b2d",
   "metadata": {},
   "outputs": [
    {
     "data": {
      "text/plain": [
       "Index(['000', '00000000001', '00003', '000th', '004', '06', '08', '081', '10',\n",
       "       '100',\n",
       "       ...\n",
       "       'zwirner', 'álvarez', 'élysées', 'émigré', 'éric', 'état', 'étoile',\n",
       "       'óscar', 'özil', 'ünited'],\n",
       "      dtype='object', length=26036)"
      ]
     },
     "execution_count": 3,
     "metadata": {},
     "output_type": "execute_result"
    }
   ],
   "source": [
    "cv = CountVectorizer()\n",
    "X = cv.fit_transform(titlelistfit(X)orcv)\n",
    "df2 = pd.DataFrame(X.toarray(),columns=cv.get_feature_names())\n",
    "df2.columns"
   ]
  },
  {
   "cell_type": "code",
   "execution_count": null,
   "id": "bc62a40e",
   "metadata": {},
   "outputs": [],
   "source": []
  },
  {
   "cell_type": "code",
   "execution_count": 4,
   "id": "8fd7d1b5",
   "metadata": {},
   "outputs": [
    {
     "data": {
      "text/plain": [
       "Index(['00', '000', '0000', '00000000001', '0000000001', '00000029', '000001',\n",
       "       '000002', '000017935', '00003',\n",
       "       ...\n",
       "       'ÿ2', '作者价值', '奈苗', '平台价值', '東京', '用户价值', '美苗', '长期', '閱讀繁體中文版',\n",
       "       '阅读简体中文版'],\n",
       "      dtype='object', length=57529)"
      ]
     },
     "execution_count": 4,
     "metadata": {},
     "output_type": "execute_result"
    }
   ],
   "source": [
    "cv = CountVectorizer()\n",
    "X2 = cv.fit_transform(contentlistforcv)\n",
    "df_cont = pd.DataFrame(X2.toarray(),columns=cv.get_feature_names())\n",
    "df_cont.columns"
   ]
  },
  {
   "cell_type": "code",
   "execution_count": 5,
   "id": "d14d7cf1",
   "metadata": {},
   "outputs": [
    {
     "data": {
      "text/plain": [
       "KMeans(n_clusters=2, n_init=1, random_state=10)"
      ]
     },
     "execution_count": 5,
     "metadata": {},
     "output_type": "execute_result"
    }
   ],
   "source": [
    "num_clusters = 2\n",
    "km = KMeans(n_clusters = num_clusters, random_state=10, n_init=1)\n",
    "km.fit(X)"
   ]
  },
  {
   "cell_type": "code",
   "execution_count": 6,
   "id": "167bcefe",
   "metadata": {},
   "outputs": [
    {
     "data": {
      "text/plain": [
       "KMeans(n_clusters=2, n_init=1, random_state=10)"
      ]
     },
     "execution_count": 6,
     "metadata": {},
     "output_type": "execute_result"
    }
   ],
   "source": [
    "km2 = KMeans(n_clusters = num_clusters, random_state=10, n_init=1)\n",
    "km2.fit(X2)"
   ]
  },
  {
   "cell_type": "code",
   "execution_count": 7,
   "id": "9bc4a55f",
   "metadata": {},
   "outputs": [
    {
     "data": {
      "text/plain": [
       "279735.86588176293"
      ]
     },
     "execution_count": 7,
     "metadata": {},
     "output_type": "execute_result"
    }
   ],
   "source": [
    "km.inertia_"
   ]
  },
  {
   "cell_type": "code",
   "execution_count": 9,
   "id": "3fdabcd6",
   "metadata": {},
   "outputs": [
    {
     "name": "stdout",
     "output_type": "stream",
     "text": [
      "  (0, 5665)\t1\n",
      "  (0, 9426)\t1\n",
      "  (0, 10635)\t1\n",
      "  (0, 14940)\t1\n",
      "  (0, 24988)\t1\n",
      "  (0, 25666)\t1\n",
      "  (1, 4323)\t1\n",
      "  (1, 23496)\t1\n",
      "  (2, 7987)\t1\n",
      "  (2, 9673)\t1\n",
      "  (2, 9932)\t1\n",
      "  (2, 13971)\t1\n",
      "  (2, 21351)\t1\n",
      "  (2, 24325)\t1\n",
      "  (3, 1679)\t1\n",
      "  (3, 8565)\t1\n",
      "  (3, 9084)\t1\n",
      "  (3, 20725)\t1\n",
      "  (3, 22732)\t1\n",
      "  (3, 24363)\t1\n",
      "  (4, 1009)\t1\n",
      "  (4, 10881)\t1\n",
      "  (4, 20724)\t1\n",
      "  (5, 7501)\t1\n",
      "  (5, 7920)\t1\n",
      "  :\t:\n",
      "  (43457, 14213)\t1\n",
      "  (43457, 20721)\t1\n",
      "  (43457, 22849)\t1\n",
      "  (43457, 25084)\t1\n",
      "  (43458, 9536)\t1\n",
      "  (43458, 10651)\t1\n",
      "  (43458, 13286)\t1\n",
      "  (43458, 15400)\t1\n",
      "  (43458, 15583)\t1\n",
      "  (43458, 15705)\t1\n",
      "  (43459, 1296)\t1\n",
      "  (43459, 4271)\t1\n",
      "  (43459, 7232)\t1\n",
      "  (43459, 7646)\t1\n",
      "  (43459, 15145)\t1\n",
      "  (43459, 15705)\t1\n",
      "  (43459, 17140)\t1\n",
      "  (43459, 22920)\t1\n",
      "  (43459, 24609)\t1\n",
      "  (43460, 5954)\t1\n",
      "  (43460, 7953)\t1\n",
      "  (43460, 10560)\t1\n",
      "  (43460, 23203)\t1\n",
      "  (43460, 24747)\t1\n",
      "  (43460, 25533)\t1\n",
      "       000  00000000001  00003  000th  004  06  08  081  10  100  ...  \\\n",
      "0        0            0      0      0    0   0   0    0   0    0  ...   \n",
      "1        0            0      0      0    0   0   0    0   0    0  ...   \n",
      "2        0            0      0      0    0   0   0    0   0    0  ...   \n",
      "3        0            0      0      0    0   0   0    0   0    0  ...   \n",
      "4        0            0      0      0    0   0   0    0   0    0  ...   \n",
      "...    ...          ...    ...    ...  ...  ..  ..  ...  ..  ...  ...   \n",
      "43456    0            0      0      0    0   0   0    0   0    0  ...   \n",
      "43457    0            0      0      0    0   0   0    0   0    0  ...   \n",
      "43458    0            0      0      0    0   0   0    0   0    0  ...   \n",
      "43459    0            0      0      0    0   0   0    0   0    0  ...   \n",
      "43460    0            0      0      0    0   0   0    0   0    0  ...   \n",
      "\n",
      "       zwirner  álvarez  élysées  émigré  éric  état  étoile  óscar  özil  \\\n",
      "0            0        0        0       0     0     0       0      0     0   \n",
      "1            0        0        0       0     0     0       0      0     0   \n",
      "2            0        0        0       0     0     0       0      0     0   \n",
      "3            0        0        0       0     0     0       0      0     0   \n",
      "4            0        0        0       0     0     0       0      0     0   \n",
      "...        ...      ...      ...     ...   ...   ...     ...    ...   ...   \n",
      "43456        0        0        0       0     0     0       0      0     0   \n",
      "43457        0        0        0       0     0     0       0      0     0   \n",
      "43458        0        0        0       0     0     0       0      0     0   \n",
      "43459        0        0        0       0     0     0       0      0     0   \n",
      "43460        0        0        0       0     0     0       0      0     0   \n",
      "\n",
      "       ünited  \n",
      "0           0  \n",
      "1           0  \n",
      "2           0  \n",
      "3           0  \n",
      "4           0  \n",
      "...       ...  \n",
      "43456       0  \n",
      "43457       0  \n",
      "43458       0  \n",
      "43459       0  \n",
      "43460       0  \n",
      "\n",
      "[43461 rows x 26036 columns]\n"
     ]
    }
   ],
   "source": [
    "print(X)\n",
    "print(df2)"
   ]
  },
  {
   "cell_type": "code",
   "execution_count": 9,
   "id": "1cb8c783",
   "metadata": {},
   "outputs": [
    {
     "data": {
      "text/plain": [
       "array([[0.01108508, 0.00114862],\n",
       "       [0.00795222, 0.00312285],\n",
       "       [0.00380441, 0.00226431],\n",
       "       ...,\n",
       "       [0.        , 0.08398911],\n",
       "       [0.07187905, 0.16031695],\n",
       "       [0.11368952, 0.        ]])"
      ]
     },
     "execution_count": 9,
     "metadata": {},
     "output_type": "execute_result"
    }
   ],
   "source": [
    "nmf2.transform(X2)"
   ]
  },
  {
   "cell_type": "code",
   "execution_count": 10,
   "id": "189c6f5c",
   "metadata": {},
   "outputs": [],
   "source": [
    "nmf_title_data = nmf.transform(X)\n",
    "nmf_content_data = nmf2.transform(X2)\n",
    "nmf_title_data = nmf_title_data.tolist()\n",
    "nmf_content_data = nmf_content_data.tolist()"
   ]
  },
  {
   "cell_type": "code",
   "execution_count": 11,
   "id": "8ce5ba8f",
   "metadata": {},
   "outputs": [],
   "source": [
    "df_title_2 = pd.DataFrame(nmf_title_data, columns = ['feat1','feat2',])\n",
    "df_content_2 = pd.DataFrame(nmf_content_data, columns = ['feat1','feat2',])"
   ]
  },
  {
   "cell_type": "code",
   "execution_count": 12,
   "id": "1d7b6083",
   "metadata": {},
   "outputs": [],
   "source": [
    "df4 = pd.merge(df, df_title_2, left_index=True, right_index=True)\n",
    "df5 = pd.merge(df, df_content_2, left_index=True, right_index=True)"
   ]
  },
  {
   "cell_type": "code",
   "execution_count": 13,
   "id": "e6d26fef",
   "metadata": {},
   "outputs": [],
   "source": [
    "X = df4.iloc[:,8:10]\n",
    "y = df4[\"Onion\"]"
   ]
  },
  {
   "cell_type": "code",
   "execution_count": 14,
   "id": "8cc8b1af",
   "metadata": {},
   "outputs": [],
   "source": [
    "X_train, X_test, y_train, y_test = train_test_split(X, y, test_size = .2, random_state=42)"
   ]
  },
  {
   "cell_type": "code",
   "execution_count": 16,
   "id": "73256f05",
   "metadata": {},
   "outputs": [
    {
     "name": "stdout",
     "output_type": "stream",
     "text": [
      "0.8151386172782699\n",
      "0.28695652173913044\n",
      "0.09355067328136074\n",
      "0.14110101549973278\n"
     ]
    }
   ],
   "source": [
    "rf_model = RandomForestClassifier()\n",
    "rf_model.fit(X_train, y_train)\n",
    "result = rf_model.predict(X_test)\n",
    "#Title NMF Random Forest\n",
    "print(accuracy_score(y_test,result))\n",
    "print(precision_score(y_test,result))\n",
    "print(recall_score(y_test,result))\n",
    "print(f1_score(y_test,result))"
   ]
  },
  {
   "cell_type": "code",
   "execution_count": 17,
   "id": "3a0f2ec0",
   "metadata": {},
   "outputs": [
    {
     "data": {
      "text/plain": [
       "<AxesSubplot:>"
      ]
     },
     "execution_count": 17,
     "metadata": {},
     "output_type": "execute_result"
    },
    {
     "data": {
      "image/png": "[encoded data removed]",
      "text/plain": [
       "<Figure size 1200x800 with 2 Axes>"
      ]
     },
     "metadata": {
      "needs_background": "light"
     },
     "output_type": "display_data"
    }
   ],
   "source": [
    "tc = confusion_matrix(y_test,result)\n",
    "plt.figure(dpi=200)\n",
    "sns.heatmap(tc, cmap=plt.cm.Blues, annot=True, square=True, fmt=\"d\")"
   ]
  },
  {
   "cell_type": "code",
   "execution_count": 20,
   "id": "30fc5a52",
   "metadata": {},
   "outputs": [
    {
     "name": "stdout",
     "output_type": "stream",
     "text": [
      "0.8383757045899\n",
      "0.5340909090909091\n",
      "0.03330970942593905\n",
      "0.06270847231487658\n"
     ]
    }
   ],
   "source": [
    "#boost (vanilla)\n",
    "bc_model = xgb.XGBClassifier()\n",
    "bc_model.fit(X_train, y_train)\n",
    "result = bc_model.predict(X_test)\n",
    "#Title NMF Boost\n",
    "print(accuracy_score(y_test,result))\n",
    "print(precision_score(y_test,result))\n",
    "print(recall_score(y_test,result))\n",
    "print(f1_score(y_test,result))"
   ]
  },
  {
   "cell_type": "code",
   "execution_count": 21,
   "id": "1878995f",
   "metadata": {},
   "outputs": [
    {
     "data": {
      "text/plain": [
       "<AxesSubplot:>"
      ]
     },
     "execution_count": 21,
     "metadata": {},
     "output_type": "execute_result"
    },
    {
     "data": {
      "image/png": "[encoded data removed]",
      "text/plain": [
       "<Figure size 1200x800 with 2 Axes>"
      ]
     },
     "metadata": {
      "needs_background": "light"
     },
     "output_type": "display_data"
    }
   ],
   "source": [
    "tc = confusion_matrix(y_test,result)\n",
    "plt.figure(dpi=200)\n",
    "sns.heatmap(tc, cmap=plt.cm.Blues, annot=True, square=True, fmt=\"d\")"
   ]
  },
  {
   "cell_type": "code",
   "execution_count": 22,
   "id": "0c6271d1",
   "metadata": {},
   "outputs": [],
   "source": [
    "X = df5.iloc[:,8:10]\n",
    "y = df5[\"Onion\"]"
   ]
  },
  {
   "cell_type": "code",
   "execution_count": 23,
   "id": "08e8d584",
   "metadata": {},
   "outputs": [],
   "source": [
    "X_train, X_test, y_train, y_test = train_test_split(X, y, test_size = .2, random_state=42)"
   ]
  },
  {
   "cell_type": "code",
   "execution_count": 24,
   "id": "a59f342c",
   "metadata": {},
   "outputs": [
    {
     "name": "stdout",
     "output_type": "stream",
     "text": [
      "0.9628436673185321\n",
      "0.8988269794721407\n",
      "0.8688873139617292\n",
      "0.8836036036036037\n"
     ]
    }
   ],
   "source": [
    "rf_model = RandomForestClassifier()\n",
    "rf_model.fit(X_train, y_train)\n",
    "result = rf_model.predict(X_test)\n",
    "#Content NMF Random Forest\n",
    "print(accuracy_score(y_test,result))\n",
    "print(precision_score(y_test,result))\n",
    "print(recall_score(y_test,result))\n",
    "print(f1_score(y_test,result))"
   ]
  },
  {
   "cell_type": "code",
   "execution_count": 25,
   "id": "a04109c3",
   "metadata": {},
   "outputs": [
    {
     "data": {
      "text/plain": [
       "<AxesSubplot:>"
      ]
     },
     "execution_count": 25,
     "metadata": {},
     "output_type": "execute_result"
    },
    {
     "data": {
      "image/png": "[encoded data removed]",
      "text/plain": [
       "<Figure size 1200x800 with 2 Axes>"
      ]
     },
     "metadata": {
      "needs_background": "light"
     },
     "output_type": "display_data"
    }
   ],
   "source": [
    "tc = confusion_matrix(y_test,result)\n",
    "plt.figure(dpi=200)\n",
    "sns.heatmap(tc, cmap=plt.cm.Blues, annot=True, square=True, fmt=\"d\")"
   ]
  },
  {
   "cell_type": "code",
   "execution_count": 26,
   "id": "ca5de474",
   "metadata": {},
   "outputs": [
    {
     "name": "stdout",
     "output_type": "stream",
     "text": [
      "0.9700908777177039\n",
      "0.9278810408921933\n",
      "0.884479092841956\n",
      "0.9056603773584905\n"
     ]
    }
   ],
   "source": [
    "#boost (vanilla)\n",
    "bc_model = xgb.XGBClassifier()\n",
    "bc_model.fit(X_train, y_train)\n",
    "result = bc_model.predict(X_test)\n",
    "#Content NMF Boost\n",
    "print(accuracy_score(y_test,result))\n",
    "print(precision_score(y_test,result))\n",
    "print(recall_score(y_test,result))\n",
    "print(f1_score(y_test,result))"
   ]
  },
  {
   "cell_type": "code",
   "execution_count": 27,
   "id": "8995e8ad",
   "metadata": {},
   "outputs": [
    {
     "data": {
      "text/plain": [
       "<AxesSubplot:>"
      ]
     },
     "execution_count": 27,
     "metadata": {},
     "output_type": "execute_result"
    },
    {
     "data": {
      "image/png": "[encoded data removed]",
      "text/plain": [
       "<Figure size 1200x800 with 2 Axes>"
      ]
     },
     "metadata": {
      "needs_background": "light"
     },
     "output_type": "display_data"
    }
   ],
   "source": [
    "tc = confusion_matrix(y_test,result)\n",
    "plt.figure(dpi=200)\n",
    "sns.heatmap(tc, cmap=plt.cm.Blues, annot=True, square=True, fmt=\"d\")"
   ]
  },
  {
   "cell_type": "code",
   "execution_count": null,
   "id": "e1dcd79e",
   "metadata": {},
   "outputs": [],
   "source": []
  }
 ],
 "metadata": {
  "kernelspec": {
   "display_name": "Python 3 (unsupervised)",
   "language": "python",
   "name": "unsupervised"
  },
  "language_info": {
   "codemirror_mode": {
    "name": "ipython",
    "version": 3
   },
   "file_extension": ".py",
   "mimetype": "text/x-python",
   "name": "python",
   "nbconvert_exporter": "python",
   "pygments_lexer": "ipython3",
   "version": "3.8.5"
  }
 },
 "nbformat": 4,
 "nbformat_minor": 5
}
